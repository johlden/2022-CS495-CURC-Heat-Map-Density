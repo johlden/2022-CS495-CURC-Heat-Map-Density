{
 "cells": [
  {
   "cell_type": "code",
   "execution_count": 1,
   "id": "42d8811b-2619-4f01-98aa-81444bab47dc",
   "metadata": {
    "tags": []
   },
   "outputs": [
    {
     "data": {
      "text/plain": [
       "'1.3.0'"
      ]
     },
     "execution_count": 1,
     "metadata": {},
     "output_type": "execute_result"
    }
   ],
   "source": [
    "import osmnx as ox\n",
    "\n",
    "%matplotlib inline\n",
    "ox.__version__"
   ]
  },
  {
   "cell_type": "code",
   "execution_count": 2,
   "id": "bb858d33-66ee-4d10-b3e1-306de947004d",
   "metadata": {
    "tags": []
   },
   "outputs": [],
   "source": [
    "bbox = [40.4726064236, 40.6393520214, -104.9820008129, -105.1573565975]\n",
    "\n",
    "G = ox.graph_from_bbox(\n",
    "    *bbox,\n",
    "    simplify=True,\n",
    "    retain_all=True,\n",
    "    clean_periphery=True,\n",
    "    truncate_by_edge=True,\n",
    "    network_type=\"all\",\n",
    ")\n"
   ]
  },
  {
   "cell_type": "code",
   "execution_count": 1,
   "id": "061b56a0-6a49-4ffd-9fa2-13fa5285426a",
   "metadata": {
    "tags": []
   },
   "outputs": [
    {
     "ename": "NameError",
     "evalue": "name 'ox' is not defined",
     "output_type": "error",
     "traceback": [
      "\u001b[0;31m---------------------------------------------------------------------------\u001b[0m",
      "\u001b[0;31mNameError\u001b[0m                                 Traceback (most recent call last)",
      "Cell \u001b[0;32mIn[1], line 1\u001b[0m\n\u001b[0;32m----> 1\u001b[0m water \u001b[39m=\u001b[39m ox\u001b[39m.\u001b[39mgeometries_from_bbox(\u001b[39m*\u001b[39mbbox, tags\u001b[39m=\u001b[39m{\u001b[39m\"\u001b[39m\u001b[39mnatural\u001b[39m\u001b[39m\"\u001b[39m: [\u001b[39m\"\u001b[39m\u001b[39mwater\u001b[39m\u001b[39m\"\u001b[39m]})\n\u001b[1;32m      2\u001b[0m parking \u001b[39m=\u001b[39m ox\u001b[39m.\u001b[39mgeometries_from_bbox(\u001b[39m*\u001b[39mbbox, tags\u001b[39m=\u001b[39m{\u001b[39m\"\u001b[39m\u001b[39mparking\u001b[39m\u001b[39m\"\u001b[39m: [\u001b[39m\"\u001b[39m\u001b[39msurface\u001b[39m\u001b[39m\"\u001b[39m, \u001b[39m\"\u001b[39m\u001b[39mstreet_side\u001b[39m\u001b[39m\"\u001b[39m, \u001b[39m\"\u001b[39m\u001b[39mlane\u001b[39m\u001b[39m\"\u001b[39m], \u001b[39m\"\u001b[39m\u001b[39mamenity\u001b[39m\u001b[39m\"\u001b[39m:[\u001b[39m\"\u001b[39m\u001b[39mparking\u001b[39m\u001b[39m\"\u001b[39m]})\n\u001b[1;32m      4\u001b[0m fig, ax \u001b[39m=\u001b[39m ox\u001b[39m.\u001b[39mplot_graph(\n\u001b[1;32m      5\u001b[0m     G,\n\u001b[1;32m      6\u001b[0m     bgcolor\u001b[39m=\u001b[39m\u001b[39m\"\u001b[39m\u001b[39mblack\u001b[39m\u001b[39m\"\u001b[39m,\n\u001b[0;32m   (...)\u001b[0m\n\u001b[1;32m     13\u001b[0m     dpi\u001b[39m=\u001b[39m\u001b[39m100\u001b[39m,\n\u001b[1;32m     14\u001b[0m )\n",
      "\u001b[0;31mNameError\u001b[0m: name 'ox' is not defined"
     ]
    }
   ],
   "source": [
    "water = ox.geometries_from_bbox(*bbox, tags={\"natural\": [\"water\"]})\n",
    "parking = ox.geometries_from_bbox(*bbox, tags={\"parking\": [\"surface\", \"street_side\", \"lane\"], \"amenity\":[\"parking\"]})\n",
    "\n",
    "fig, ax = ox.plot_graph(\n",
    "    G,\n",
    "    bgcolor=\"black\",\n",
    "    show=False,\n",
    "    close=False,\n",
    "    node_size=0,\n",
    "    edge_linewidth=1,\n",
    "    edge_color=\"yellow\",\n",
    "    figsize=(120, 160),\n",
    "    dpi=100,\n",
    ")\n",
    "water.plot(color=\"#466A8C\", linewidth=1, ax=ax)\n",
    "parking.plot(color=\"#808076\", linewidth=1, ax=ax)\n",
    "\n",
    "margin = 0.02\n",
    "west, south, east, north = water.unary_union.bounds\n",
    "margin_ns = (north - south) * margin\n",
    "margin_ew = (east - west) * margin\n",
    "ax.set_ylim((south - margin_ns, north + margin_ns))\n",
    "ax.set_xlim((west - margin_ew, east + margin_ew))"
   ]
  }
 ],
 "metadata": {
  "kernelspec": {
   "display_name": "Python 3 (ipykernel)",
   "language": "python",
   "name": "python3"
  },
  "language_info": {
   "codemirror_mode": {
    "name": "ipython",
    "version": 3
   },
   "file_extension": ".py",
   "mimetype": "text/x-python",
   "name": "python",
   "nbconvert_exporter": "python",
   "pygments_lexer": "ipython3",
   "version": "3.11.0"
  }
 },
 "nbformat": 4,
 "nbformat_minor": 5
}
